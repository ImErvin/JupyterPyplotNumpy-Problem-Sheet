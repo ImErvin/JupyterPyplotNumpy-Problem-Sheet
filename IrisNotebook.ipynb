{
 "cells": [
  {
   "cell_type": "markdown",
   "metadata": {},
   "source": [
    "## Jupyter Pyplot Numpy Problem Sheet\n",
    "###### Solution by Ervin Mamutov - github.com/imervin\n",
    "\n",
    "#### Citation\n",
    "[1]https://en.wikipedia.org/wiki/Iris_flower_data_set\n",
    "\n",
    "[2]https://en.wikipedia.org/wiki/Multivariate_statistics\n",
    "\n",
    "[3]https://en.wikipedia.org/wiki/Linear_discriminant_analysis\n",
    "\n",
    "[4]https://seaborn.pydata.org/index.html\n",
    "\n",
    "### Fisher's Iris Dataset\n",
    "Fisher's Iris Dataset is a multivariate (analysis of more than out outcome variable. [2]) dataset of the Iris flower. The dataset was introduced by a British statistician Ronald Fisher in his paper *The use of multiple measurements in taxonomic problems (1936)* as an example of linear discriminant analysis (method to characterize or separate two or more classes of objects or events for statistics, pattern matching and machine learning to find a linear combination of features. [3]). [1]\n",
    "\n",
    "### What is the dataset?\n",
    "The dataset consists of 50 samples from each of three species of Iris (setosa, versicolor and virginica with four features that were measured for each sample: length and width of the sepals and petals, in centimeters. [1]\n",
    "\n",
    "### What is the dataset used for?\n",
    "The dataset was used to develop a linear discriminant model to distinguish the species from each other. [1]\n"
   ]
  },
  {
   "cell_type": "markdown",
   "metadata": {},
   "source": [
    "### Get and load the data.\n",
    "I have downloaded a CSV file of Fisher's Iris Dataset. The next step I want to take is to distinguish what each piece of data represents.\n",
    "\n",
    "I found the attribute information you see below here - https://archive.ics.uci.edu/ml/datasets/iris.\n",
    "\n",
    "| First              | Second            | Third              | Fourth            | Fifth |\n",
    "| :----------------- |:------------------| :------------------|:------------------| :-----|\n",
    "| sepal length in cm | sepal width in cm | petal length in cm | petal width in cm | Class |\n",
    "\n",
    "Now that I know what the structure and data represents, I can store it into a numpy array(s)."
   ]
  },
  {
   "cell_type": "code",
   "execution_count": 1,
   "metadata": {},
   "outputs": [
    {
     "name": "stdout",
     "output_type": "stream",
     "text": [
      "Sepal Lengths:\n",
      " [ 5.1  4.9  4.7  4.6  5.   5.4  4.6  5.   4.4  4.9  5.4  4.8  4.8  4.3  5.8\n",
      "  5.7  5.4  5.1  5.7  5.1  5.4  5.1  4.6  5.1  4.8  5.   5.   5.2  5.2  4.7\n",
      "  4.8  5.4  5.2  5.5  4.9  5.   5.5  4.9  4.4  5.1  5.   4.5  4.4  5.   5.1\n",
      "  4.8  5.1  4.6  5.3  5.   7.   6.4  6.9  5.5  6.5  5.7  6.3  4.9  6.6  5.2\n",
      "  5.   5.9  6.   6.1  5.6  6.7  5.6  5.8  6.2  5.6  5.9  6.1  6.3  6.1  6.4\n",
      "  6.6  6.8  6.7  6.   5.7  5.5  5.5  5.8  6.   5.4  6.   6.7  6.3  5.6  5.5\n",
      "  5.5  6.1  5.8  5.   5.6  5.7  5.7  6.2  5.1  5.7  6.3  5.8  7.1  6.3  6.5\n",
      "  7.6  4.9  7.3  6.7  7.2  6.5  6.4  6.8  5.7  5.8  6.4  6.5  7.7  7.7  6.\n",
      "  6.9  5.6  7.7  6.3  6.7  7.2  6.2  6.1  6.4  7.2  7.4  7.9  6.4  6.3  6.1\n",
      "  7.7  6.3  6.4  6.   6.9  6.7  6.9  5.8  6.8  6.7  6.7  6.3  6.5  6.2  5.9] \n",
      "Sepal Widths:\n",
      " [ 3.5  3.   3.2  3.1  3.6  3.9  3.4  3.4  2.9  3.1  3.7  3.4  3.   3.   4.\n",
      "  4.4  3.9  3.5  3.8  3.8  3.4  3.7  3.6  3.3  3.4  3.   3.4  3.5  3.4  3.2\n",
      "  3.1  3.4  4.1  4.2  3.1  3.2  3.5  3.1  3.   3.4  3.5  2.3  3.2  3.5  3.8\n",
      "  3.   3.8  3.2  3.7  3.3  3.2  3.2  3.1  2.3  2.8  2.8  3.3  2.4  2.9  2.7\n",
      "  2.   3.   2.2  2.9  2.9  3.1  3.   2.7  2.2  2.5  3.2  2.8  2.5  2.8  2.9\n",
      "  3.   2.8  3.   2.9  2.6  2.4  2.4  2.7  2.7  3.   3.4  3.1  2.3  3.   2.5\n",
      "  2.6  3.   2.6  2.3  2.7  3.   2.9  2.9  2.5  2.8  3.3  2.7  3.   2.9  3.\n",
      "  3.   2.5  2.9  2.5  3.6  3.2  2.7  3.   2.5  2.8  3.2  3.   3.8  2.6  2.2\n",
      "  3.2  2.8  2.8  2.7  3.3  3.2  2.8  3.   2.8  3.   2.8  3.8  2.8  2.8  2.6\n",
      "  3.   3.4  3.1  3.   3.1  3.1  3.1  2.7  3.2  3.3  3.   2.5  3.   3.4  3. ] \n",
      "Petal Lengths:\n",
      " [ 1.4  1.4  1.3  1.5  1.4  1.7  1.4  1.5  1.4  1.5  1.5  1.6  1.4  1.1  1.2\n",
      "  1.5  1.3  1.4  1.7  1.5  1.7  1.5  1.   1.7  1.9  1.6  1.6  1.5  1.4  1.6\n",
      "  1.6  1.5  1.5  1.4  1.5  1.2  1.3  1.5  1.3  1.5  1.3  1.3  1.3  1.6  1.9\n",
      "  1.4  1.6  1.4  1.5  1.4  4.7  4.5  4.9  4.   4.6  4.5  4.7  3.3  4.6  3.9\n",
      "  3.5  4.2  4.   4.7  3.6  4.4  4.5  4.1  4.5  3.9  4.8  4.   4.9  4.7  4.3\n",
      "  4.4  4.8  5.   4.5  3.5  3.8  3.7  3.9  5.1  4.5  4.5  4.7  4.4  4.1  4.\n",
      "  4.4  4.6  4.   3.3  4.2  4.2  4.2  4.3  3.   4.1  6.   5.1  5.9  5.6  5.8\n",
      "  6.6  4.5  6.3  5.8  6.1  5.1  5.3  5.5  5.   5.1  5.3  5.5  6.7  6.9  5.\n",
      "  5.7  4.9  6.7  4.9  5.7  6.   4.8  4.9  5.6  5.8  6.1  6.4  5.6  5.1  5.6\n",
      "  6.1  5.6  5.5  4.8  5.4  5.6  5.1  5.1  5.9  5.7  5.2  5.   5.2  5.4  5.1] \n",
      "Petal Widths:\n",
      " [ 0.2  0.2  0.2  0.2  0.2  0.4  0.3  0.2  0.2  0.1  0.2  0.2  0.1  0.1  0.2\n",
      "  0.4  0.4  0.3  0.3  0.3  0.2  0.4  0.2  0.5  0.2  0.2  0.4  0.2  0.2  0.2\n",
      "  0.2  0.4  0.1  0.2  0.1  0.2  0.2  0.1  0.2  0.2  0.3  0.3  0.2  0.6  0.4\n",
      "  0.3  0.2  0.2  0.2  0.2  1.4  1.5  1.5  1.3  1.5  1.3  1.6  1.   1.3  1.4\n",
      "  1.   1.5  1.   1.4  1.3  1.4  1.5  1.   1.5  1.1  1.8  1.3  1.5  1.2  1.3\n",
      "  1.4  1.4  1.7  1.5  1.   1.1  1.   1.2  1.6  1.5  1.6  1.5  1.3  1.3  1.3\n",
      "  1.2  1.4  1.2  1.   1.3  1.2  1.3  1.3  1.1  1.3  2.5  1.9  2.1  1.8  2.2\n",
      "  2.1  1.7  1.8  1.8  2.5  2.   1.9  2.1  2.   2.4  2.3  1.8  2.2  2.3  1.5\n",
      "  2.3  2.   2.   1.8  2.1  1.8  1.8  1.8  2.1  1.6  1.9  2.   2.2  1.5  1.4\n",
      "  2.3  2.4  1.8  1.8  2.1  2.4  2.3  1.9  2.3  2.5  2.3  1.9  2.   2.3  1.8] \n",
      "Iris Names:\n",
      " [b'Iris-setosa' b'Iris-setosa' b'Iris-setosa' b'Iris-setosa' b'Iris-setosa'\n",
      " b'Iris-setosa' b'Iris-setosa' b'Iris-setosa' b'Iris-setosa' b'Iris-setosa'\n",
      " b'Iris-setosa' b'Iris-setosa' b'Iris-setosa' b'Iris-setosa' b'Iris-setosa'\n",
      " b'Iris-setosa' b'Iris-setosa' b'Iris-setosa' b'Iris-setosa' b'Iris-setosa'\n",
      " b'Iris-setosa' b'Iris-setosa' b'Iris-setosa' b'Iris-setosa' b'Iris-setosa'\n",
      " b'Iris-setosa' b'Iris-setosa' b'Iris-setosa' b'Iris-setosa' b'Iris-setosa'\n",
      " b'Iris-setosa' b'Iris-setosa' b'Iris-setosa' b'Iris-setosa' b'Iris-setosa'\n",
      " b'Iris-setosa' b'Iris-setosa' b'Iris-setosa' b'Iris-setosa' b'Iris-setosa'\n",
      " b'Iris-setosa' b'Iris-setosa' b'Iris-setosa' b'Iris-setosa' b'Iris-setosa'\n",
      " b'Iris-setosa' b'Iris-setosa' b'Iris-setosa' b'Iris-setosa' b'Iris-setosa'\n",
      " b'Iris-versicolor' b'Iris-versicolor' b'Iris-versicolor'\n",
      " b'Iris-versicolor' b'Iris-versicolor' b'Iris-versicolor'\n",
      " b'Iris-versicolor' b'Iris-versicolor' b'Iris-versicolor'\n",
      " b'Iris-versicolor' b'Iris-versicolor' b'Iris-versicolor'\n",
      " b'Iris-versicolor' b'Iris-versicolor' b'Iris-versicolor'\n",
      " b'Iris-versicolor' b'Iris-versicolor' b'Iris-versicolor'\n",
      " b'Iris-versicolor' b'Iris-versicolor' b'Iris-versicolor'\n",
      " b'Iris-versicolor' b'Iris-versicolor' b'Iris-versicolor'\n",
      " b'Iris-versicolor' b'Iris-versicolor' b'Iris-versicolor'\n",
      " b'Iris-versicolor' b'Iris-versicolor' b'Iris-versicolor'\n",
      " b'Iris-versicolor' b'Iris-versicolor' b'Iris-versicolor'\n",
      " b'Iris-versicolor' b'Iris-versicolor' b'Iris-versicolor'\n",
      " b'Iris-versicolor' b'Iris-versicolor' b'Iris-versicolor'\n",
      " b'Iris-versicolor' b'Iris-versicolor' b'Iris-versicolor'\n",
      " b'Iris-versicolor' b'Iris-versicolor' b'Iris-versicolor'\n",
      " b'Iris-versicolor' b'Iris-versicolor' b'Iris-versicolor'\n",
      " b'Iris-versicolor' b'Iris-versicolor' b'Iris-virginica' b'Iris-virginica'\n",
      " b'Iris-virginica' b'Iris-virginica' b'Iris-virginica' b'Iris-virginica'\n",
      " b'Iris-virginica' b'Iris-virginica' b'Iris-virginica' b'Iris-virginica'\n",
      " b'Iris-virginica' b'Iris-virginica' b'Iris-virginica' b'Iris-virginica'\n",
      " b'Iris-virginica' b'Iris-virginica' b'Iris-virginica' b'Iris-virginica'\n",
      " b'Iris-virginica' b'Iris-virginica' b'Iris-virginica' b'Iris-virginica'\n",
      " b'Iris-virginica' b'Iris-virginica' b'Iris-virginica' b'Iris-virginica'\n",
      " b'Iris-virginica' b'Iris-virginica' b'Iris-virginica' b'Iris-virginica'\n",
      " b'Iris-virginica' b'Iris-virginica' b'Iris-virginica' b'Iris-virginica'\n",
      " b'Iris-virginica' b'Iris-virginica' b'Iris-virginica' b'Iris-virginica'\n",
      " b'Iris-virginica' b'Iris-virginica' b'Iris-virginica' b'Iris-virginica'\n",
      " b'Iris-virginica' b'Iris-virginica' b'Iris-virginica' b'Iris-virginica'\n",
      " b'Iris-virginica' b'Iris-virginica' b'Iris-virginica' b'Iris-virginica']\n"
     ]
    }
   ],
   "source": [
    "# Import numpy\n",
    "import numpy as np\n",
    "\n",
    "# Adapted code from - https://docs.scipy.org/doc/numpy/reference/generated/numpy.loadtxt.html#numpy.loadtxt\n",
    "# Read column by column into 5 different arrays, one for sepal length, one for sepal width, one for petal length, one for petal width and one for iris class.\n",
    "# Read in by using a \",\" delimiter (because it's a CSV file), set the first 4 variables as float type and the last one as a 15 character long string.\n",
    "# Usecols allows me to take the value in each column and place it into an appropriate array.\n",
    "sepal_L, sepal_W, petal_L, petal_W, iris_class = np.loadtxt(open(\"IRIS_dataset.csv\", \"rb\"), \n",
    "                                                            delimiter=\",\", \n",
    "                                                            dtype={'names': ('sepal_L', 'sepal_W', 'petal_L', 'petal_W', 'iris_class'), 'formats': ('float', 'float', 'float', 'float', 'S15')}, \n",
    "                                                            usecols=(0,1,2,3,4), \n",
    "                                                            unpack=True)\n",
    "\n",
    "print(\"Sepal Lengths:\\n\",sepal_L,\"\\nSepal Widths:\\n\",sepal_W,\"\\nPetal Lengths:\\n\",petal_L,\"\\nPetal Widths:\\n\",petal_W,\"\\nIris Names:\\n\",iris_class)"
   ]
  },
  {
   "cell_type": "markdown",
   "metadata": {},
   "source": [
    "### Create a simple plot\n",
    "In the code above I stored the data from the CSV files into numpy arrays, this lets me work with the data in the CSV files.\n",
    "\n",
    "I can use Pyplot to create a simple plot of data. I will plot all of the sepal lengths onto the x-axis and all of the sepal widths onto the y-axis. This lets me visual the data in the form of a scatter plot."
   ]
  },
  {
   "cell_type": "code",
   "execution_count": 2,
   "metadata": {},
   "outputs": [
    {
     "data": {
      "image/png": "[encoded data removed]",
      "text/plain": [
       "<matplotlib.figure.Figure at 0x269238059e8>"
      ]
     },
     "metadata": {},
     "output_type": "display_data"
    }
   ],
   "source": [
    "# Import matplotlib's pyplot\n",
    "import matplotlib.pyplot as plt\n",
    "\n",
    "# Set the sepal_L (length) as the x-axis and sepal_W (width) as the y-axis, plotted as dots(.). \n",
    "plt.scatter(sepal_L, sepal_W, marker='.')\n",
    "# Set the x-axis label\n",
    "plt.xlabel('Sepal Length')\n",
    "# Set the y-axis label\n",
    "plt.ylabel('Sepal Width')\n",
    "# Set the diagram title\n",
    "plt.title('Sepal length & width scatter plot')\n",
    "# Display the plot\n",
    "plt.show()"
   ]
  },
  {
   "cell_type": "markdown",
   "metadata": {},
   "source": [
    "### Create a more complex plot\n",
    "\n",
    "The diagram above is showing all of the sepal lengths and widths as points on a scatter plot. Now I want to create a more complex diagram with a color identifier for each of the three classes of the Iris flower. Red for setosa, green for versicolor and blue for virginica.\n",
    "\n",
    "Using Python, I can create an object template for the different types of Iris with a constructor that has x,y,color and label arguments. I can dynamically populate the scatter plot using getter methods from the Iris class object."
   ]
  },
  {
   "cell_type": "code",
   "execution_count": null,
   "metadata": {},
   "outputs": [
    {
     "data": {
      "image/png": "[encoded data removed]",
      "text/plain": [
       "<matplotlib.figure.Figure at 0x26924b451d0>"
      ]
     },
     "metadata": {},
     "output_type": "display_data"
    }
   ],
   "source": [
    "# Object Iris 4 values - x,y values, the color and the label for the plot.\n",
    "class Iris:\n",
    "    \n",
    "    # Constructor\n",
    "    def __init__(self, xValues, yValues, color, label):\n",
    "        self.xValues = xValues\n",
    "        self.yValues = yValues\n",
    "        self.color = color\n",
    "        self.label = label\n",
    "    \n",
    "    # Getters\n",
    "    def getX(self):\n",
    "        return self.xValues\n",
    "    \n",
    "    def getY(self):\n",
    "        return self.yValues\n",
    "    \n",
    "    def getColor(self):\n",
    "        return self.color\n",
    "    \n",
    "    def getLabel(self):\n",
    "        return self.label\n",
    "\n",
    "# Instantiate instances of the Iris object feeding in the first 50 sepal lengths and widths as the setosa,\n",
    "# the next 50 as the versicolor etc. (The data is sorted so this method will work.). Adding the color of the\n",
    "# points and the label for the legend.\n",
    "setosaClass = Iris([x for x in sepal_L[0:49:1]],[y for y in sepal_W[0:49:1]],\"r\",\"Setosa Sepal\")\n",
    "versicolorClass = Iris([x for x in sepal_L[49:99:1]],[y for y in sepal_W[49:99:1]],\"g\",\"Versicolor Sepal\")\n",
    "virginicaClass = Iris([x for x in sepal_L[99:149:1]],[y for y in sepal_W[99:149:1]],\"b\",\"Virginica Sepal\")\n",
    "\n",
    "# A list with the class names from above.\n",
    "classes = [setosaClass, versicolorClass, virginicaClass]\n",
    "\n",
    "# Function to add points to the scatter plot dynamically.\n",
    "def addScatters(className):\n",
    "    # use the getters from the Object to create the scatter plot\n",
    "    x = className.getX()\n",
    "    y = className.getY()\n",
    "    c = className.getColor()\n",
    "    l = className.getLabel()\n",
    "    plt.scatter(x,y, marker='.', color = c, label = l)\n",
    "\n",
    "# Loop over the class names and add the scatters dynamically.\n",
    "for i in classes:\n",
    "    addScatters(i)\n",
    "\n",
    "# Add the labels, titles and legend - then display the plot.\n",
    "plt.xlabel('Sepal Length')\n",
    "plt.ylabel('Sepal Width')\n",
    "plt.title('Sepal length & width scatter plot')\n",
    "plt.legend(loc='best', numpoints=1, ncol=1, fontsize=8)\n",
    "plt.show()"
   ]
  },
  {
   "cell_type": "markdown",
   "metadata": {},
   "source": [
    "### Let's use Seaborn!\n",
    "\n",
    "#### What is seaborn?\n",
    "Seaborn is a Python visualization library based on matplotlib. It provides a high-level interface for drawing attractive statistical graphics.[4]\n",
    "\n",
    "Using seaborn, I can visualize the Iris dataset as a scatterplot matrix, one for each of the variables. I can use the predefined code from seaborns website to create the Iris dataset scatterplot matrix."
   ]
  },
  {
   "cell_type": "code",
   "execution_count": null,
   "metadata": {},
   "outputs": [],
   "source": [
    "# Import seaborn\n",
    "import seaborn as sns\n",
    "\n",
    "# Adapted code from - https://seaborn.pydata.org/examples/scatterplot_matrix.html\n",
    "# set the style to ticks\n",
    "sns.set(style=\"ticks\")\n",
    "\n",
    "# Load the predefined iris library from seaborn.\n",
    "df = sns.load_dataset(\"iris\")\n",
    "\n",
    "# Use the data the was loaded in above to create a \"pairplot\" of all the variables.\n",
    "sns.pairplot(df, hue=\"species\")\n",
    "\n",
    "plt.show()"
   ]
  },
  {
   "cell_type": "markdown",
   "metadata": {},
   "source": [
    "### Plotting a Line\n",
    "\n",
    "Now I want to plot a straight best fit line between the petal length and width points.\n",
    "We can plot lines between the different points on the scatterplot but only one of those lines can be the \"best fit\" line. This means that the line's cost (distance from all the points) is the lowest.\n",
    "\n",
    "To calculate the lines cost we can use the formula:\n",
    "\n",
    "$$ \\sum_i (y_i - mx_i - c)^2 $$\n",
    "\n",
    "\n",
    "Numpy's polyfit will allow me to find the best fit line. Polyfit will take 3 arguments, the length, the width and the dimension and return an list with two floats. The first float represents the slope and the second float represents the cost.\n",
    "\n",
    "$$  y = mx + c $$\n",
    "\n",
    "The formula above is the formula of a line. Using this formula, I can plot the line by passing in the slope and cost from the polyfit function.\n"
   ]
  },
  {
   "cell_type": "code",
   "execution_count": null,
   "metadata": {},
   "outputs": [],
   "source": [
    "# Find the best fit line using numpys polyfit function\n",
    "bestFitLine = np.polyfit(petal_L, petal_W, 1)\n",
    "print(\"Best slope: %f4 and cost: %f4\"%(bestFitLine[0],bestFitLine[1]))\n",
    "# Plot the best fit line.\n",
    "plt.scatter(petal_L, petal_W, marker='.', color=\"r\", label='Petal length and width points')\n",
    "# Start the point at petal_L (can't figure out why) and use y = mx+c to find y.\n",
    "plt.plot(petal_L, bestFitLine[0] * petal_L + bestFitLine[1], 'b-', label='Best fit line')\n",
    "\n",
    "# Set label,title,legend then display the plot.\n",
    "plt.xlabel('Petal Length')\n",
    "plt.ylabel('Petal Width')\n",
    "plt.title('Petal length & width scatter plot with best fit line.')\n",
    "plt.legend(loc='best', numpoints=1, ncol=1, fontsize=8)\n",
    "plt.show()\n"
   ]
  },
  {
   "cell_type": "markdown",
   "metadata": {},
   "source": [
    "### Finding the r-squared value.\n",
    "\n",
    "The R-Squared (Coefficient of Determination) value is a precentage of how many points the line touchs."
   ]
  },
  {
   "cell_type": "code",
   "execution_count": null,
   "metadata": {
    "scrolled": true
   },
   "outputs": [],
   "source": [
    "# Adpated code from - https://stackoverflow.com/questions/893657/how-do-i-calculate-r-squared-using-python-and-numpy\n",
    "# Polynomial Regression\n",
    "def polyfit(x, y, degree):\n",
    "    results = {}\n",
    "    \n",
    "    # Finding the coefficient\n",
    "    coeffs = np.polyfit(x, y, degree)\n",
    "\n",
    "     # Polynomial Coefficients\n",
    "    results['polynomial'] = coeffs.tolist()\n",
    "    \n",
    "    # r-squared\n",
    "    p = np.poly1d(coeffs)\n",
    "    # fit values, and mean\n",
    "    yhat = p(x)                      # or [p(z) for z in x]\n",
    "    ybar = np.sum(y)/len(y)          # or sum(y)/len(y)\n",
    "    ssreg = np.sum((yhat-ybar)**2)   # or sum([ (yihat - ybar)**2 for yihat in yhat])\n",
    "    sstot = np.sum((y - ybar)**2)    # or sum([ (yi - ybar)**2 for yi in y])\n",
    "    results['determination'] = ssreg / sstot\n",
    "    \n",
    "    return results\n",
    "\n",
    "print(polyfit(petal_L, petal_W, 1))"
   ]
  },
  {
   "cell_type": "markdown",
   "metadata": {},
   "source": [
    "### Find the best fit line of setosa petals\n",
    "\n",
    "I can re-use the code I have written above to now find the best fit line for setosa petals."
   ]
  },
  {
   "cell_type": "code",
   "execution_count": null,
   "metadata": {},
   "outputs": [],
   "source": [
    "# Re-use the class to create a petal class - feed it 0-49 lengths and widths\n",
    "setosaPetalClass = Iris([x for x in petal_L[0:49:1]],[y for y in petal_W[0:49:1]],\"r\",\"Setosa Petals\")\n",
    "\n",
    "# Re-use the addScatter to create the points on thep lot\n",
    "addScatters(setosaPetalClass)\n",
    "\n",
    "# Get the x and y lists for the best line calculation\n",
    "setosaPetalX = setosaPetalClass.getX()\n",
    "setosaPetalY = setosaPetalClass.getY()\n",
    "\n",
    "# Calculate the best line\n",
    "bestFitLine = np.polyfit(setosaPetalX, setosaPetalY, 1)\n",
    "\n",
    "#\n",
    "plt.plot(petal_L, bestFitLine[0] * petal_L + bestFitLine[1], 'b-', label='Best fit line')\n",
    "\n",
    "plt.xlabel('Petal Length')\n",
    "plt.ylabel('Petal Width')\n",
    "plt.title('Setosa petal length & width scatter plot with best fit line.')\n",
    "plt.legend(loc='best', numpoints=1, ncol=1, fontsize=8)\n",
    "plt.show()\n"
   ]
  },
  {
   "cell_type": "markdown",
   "metadata": {},
   "source": [
    "### Finding the r-squared for the line above.\n",
    "\n",
    "I can re-use my r-squared implementation to find the r squared of the top line."
   ]
  },
  {
   "cell_type": "code",
   "execution_count": null,
   "metadata": {},
   "outputs": [],
   "source": [
    "print(polyfit(setosaPetalX,setosaPetalY, 1))"
   ]
  },
  {
   "cell_type": "markdown",
   "metadata": {},
   "source": [
    "### Find the gradient descent"
   ]
  },
  {
   "cell_type": "code",
   "execution_count": null,
   "metadata": {},
   "outputs": [],
   "source": [
    "# Don't understand the problem and not enough time to figure it out now. - To be continued.\n",
    "\n",
    "def next_z(z, x, eta=0.001):\n",
    "  return z - eta * (4.0 * z**3 - 80 * z)\n",
    "\n",
    "def sqrt_grad_desc(x, z, verbose=False):\n",
    "  while abs(z - next_z(z, x)) > 0.001:\n",
    "    if verbose:\n",
    "      print(\"Current: %14.8f\\tNext: %14.8f\" % (z, next_z(z, x)))\n",
    "    z = next_z(z, x)\n",
    "  return z\n",
    "\n",
    "ans =sqrt_grad_desc(1, polyfit(setosaPetalX,setosaPetalY, 1)['determination'], False)\n",
    "print(\"Square root:\", ans, \"\\tSquared:\", ans**2)\n",
    "ans =sqrt_grad_desc(1, polyfit(setosaPetalX,setosaPetalY, 1)['determination'], False)\n",
    "print(\"Square root:\", ans, \"\\tSquared:\", ans**2)"
   ]
  }
 ],
 "metadata": {
  "kernelspec": {
   "display_name": "Python 3",
   "language": "python",
   "name": "python3"
  },
  "language_info": {
   "codemirror_mode": {
    "name": "ipython",
    "version": 3
   },
   "file_extension": ".py",
   "mimetype": "text/x-python",
   "name": "python",
   "nbconvert_exporter": "python",
   "pygments_lexer": "ipython3",
   "version": "3.6.2"
  }
 },
 "nbformat": 4,
 "nbformat_minor": 2
}
