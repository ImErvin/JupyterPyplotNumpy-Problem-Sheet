{
 "cells": [
  {
   "cell_type": "markdown",
   "metadata": {},
   "source": [
    "## Jupyter Pyplot Numpy Problem Sheet\n",
    "###### Solution by Ervin Mamutov - github.com/imervin\n",
    "\n",
    "#### Citation\n",
    "[1]https://en.wikipedia.org/wiki/Iris_flower_data_set\n",
    "[2]https://en.wikipedia.org/wiki/Multivariate_statistics\n",
    "[3]https://en.wikipedia.org/wiki/Linear_discriminant_analysis\n",
    "\n",
    "\n",
    "### Fisher's Iris Dataset\n",
    "Fisher's Iris Dataset is a multivariate (analysis of more than out outcome variable. [2]) dataset of the Iris flower. The dataset was introduced by a British statistician Ronald Fisher in his paper *The use of multiple measurements in taxonomic problems (1936)* as an example of linear discriminant analysis (method to characterize or separate two or more classes of objects or events for statistics, pattern matching and machine learning to find a linear combination of features. [3]). [1]\n",
    "\n",
    "### What is the dataset?\n",
    "The dataset consists of 50 samples from each of three species of Iris (setosa, versicolor and virginica with four features that were measured for each sample: length and width of the sepals and petals, in centimeters. [1]\n",
    "\n",
    "### What is the dataset used for?\n",
    "The dataset was used to develop a linear discriminant model to distinguish the species from each other. [1]\n"
   ]
  },
  {
   "cell_type": "markdown",
   "metadata": {},
   "source": [
    "### Get and load the data.\n",
    "I have downloaded a CSV file of Fisher's Iris Dataset. The next step I want to take is to distinguish what each piece of data represents.\n",
    "\n",
    "I found the attribute information you see below here - https://archive.ics.uci.edu/ml/datasets/iris.\n",
    "\n",
    "| First              | Second            | Third              | Fourth            | Fifth |\n",
    "| :----------------- |:------------------| :------------------|:------------------| :-----|\n",
    "| sepal length in cm | sepal width in cm | petal length in cm | petal width in cm | Class |\n",
    "\n",
    "Now that I know what the structure and data represents, I can store it into a numpy array(s)."
   ]
  },
  {
   "cell_type": "code",
   "execution_count": 1,
   "metadata": {},
   "outputs": [
    {
     "ename": "SyntaxError",
     "evalue": "invalid syntax (<ipython-input-1-5f42eae49285>, line 4)",
     "output_type": "error",
     "traceback": [
      "\u001b[1;36m  File \u001b[1;32m\"<ipython-input-1-5f42eae49285>\"\u001b[1;36m, line \u001b[1;32m4\u001b[0m\n\u001b[1;33m    np.loadtxt(open(\"test.csv\", \"rb\"),, delimiter=\",\")\u001b[0m\n\u001b[1;37m                                      ^\u001b[0m\n\u001b[1;31mSyntaxError\u001b[0m\u001b[1;31m:\u001b[0m invalid syntax\n"
     ]
    }
   ],
   "source": [
    "import numpy as np\n",
    "\n",
    "\n",
    "np.loadtxt(open(\"test.csv\", \"rb\"),, delimiter=\",\")"
   ]
  }
 ],
 "metadata": {
  "kernelspec": {
   "display_name": "Python 3",
   "language": "python",
   "name": "python3"
  },
  "language_info": {
   "codemirror_mode": {
    "name": "ipython",
    "version": 3
   },
   "file_extension": ".py",
   "mimetype": "text/x-python",
   "name": "python",
   "nbconvert_exporter": "python",
   "pygments_lexer": "ipython3",
   "version": "3.6.2"
  }
 },
 "nbformat": 4,
 "nbformat_minor": 2
}
