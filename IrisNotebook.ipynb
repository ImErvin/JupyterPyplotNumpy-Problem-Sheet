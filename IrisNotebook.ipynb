{
 "cells": [
  {
   "cell_type": "markdown",
   "metadata": {},
   "source": [
    "## Jupyter Pyplot Numpy Problem Sheet\n",
    "###### Solution by Ervin Mamutov - github.com/imervin\n",
    "\n",
    "#### Citation\n",
    "[1]https://en.wikipedia.org/wiki/Iris_flower_data_set\n",
    "[2]https://en.wikipedia.org/wiki/Multivariate_statistics\n",
    "[3]https://en.wikipedia.org/wiki/Linear_discriminant_analysis\n",
    "\n",
    "\n",
    "### Fisher's Iris Dataset\n",
    "Fisher's Iris Dataset is a multivariate (analysis of more than out outcome variable. [2]) dataset of the Iris flower. The dataset was introduced by a British statistician Ronald Fisher in his paper *The use of multiple measurements in taxonomic problems (1936)* as an example of linear discriminant analysis (method to characterize or separate two or more classes of objects or events for statistics, pattern matching and machine learning to find a linear combination of features. [3]). [1]\n",
    "\n",
    "### What is the dataset?\n",
    "The dataset consists of 50 samples from each of three species of Iris (setosa, versicolor and virginica with four features that were measured for each sample: length and width of the sepals and petals, in centimeters. [1]\n",
    "\n",
    "### What is the dataset used for?\n",
    "The dataset was used to develop a linear discriminant model to distinguish the species from each other. [1]\n"
   ]
  },
  {
   "cell_type": "markdown",
   "metadata": {},
   "source": [
    "### Get and load the data.\n",
    "I have downloaded a CSV file of Fisher's Iris Dataset. The next step I want to take is to distinguish what each piece of data represents.\n",
    "\n",
    "I found the attribute information you see below here - https://archive.ics.uci.edu/ml/datasets/iris.\n",
    "\n",
    "| First              | Second            | Third              | Fourth            | Fifth |\n",
    "| :----------------- |:------------------| :------------------|:------------------| :-----|\n",
    "| sepal length in cm | sepal width in cm | petal length in cm | petal width in cm | Class |\n",
    "\n",
    "Now that I know what the structure and data represents, I can store it into a numpy array(s)."
   ]
  },
  {
   "cell_type": "code",
   "execution_count": 9,
   "metadata": {},
   "outputs": [
    {
     "name": "stdout",
     "output_type": "stream",
     "text": [
      "Sepal Lengths:\n",
      " [ 5.1  4.9  4.7  4.6  5.   5.4  4.6  5.   4.4  4.9  5.4  4.8  4.8  4.3  5.8\n",
      "  5.7  5.4  5.1  5.7  5.1  5.4  5.1  4.6  5.1  4.8  5.   5.   5.2  5.2  4.7\n",
      "  4.8  5.4  5.2  5.5  4.9  5.   5.5  4.9  4.4  5.1  5.   4.5  4.4  5.   5.1\n",
      "  4.8  5.1  4.6  5.3  5.   7.   6.4  6.9  5.5  6.5  5.7  6.3  4.9  6.6  5.2\n",
      "  5.   5.9  6.   6.1  5.6  6.7  5.6  5.8  6.2  5.6  5.9  6.1  6.3  6.1  6.4\n",
      "  6.6  6.8  6.7  6.   5.7  5.5  5.5  5.8  6.   5.4  6.   6.7  6.3  5.6  5.5\n",
      "  5.5  6.1  5.8  5.   5.6  5.7  5.7  6.2  5.1  5.7  6.3  5.8  7.1  6.3  6.5\n",
      "  7.6  4.9  7.3  6.7  7.2  6.5  6.4  6.8  5.7  5.8  6.4  6.5  7.7  7.7  6.\n",
      "  6.9  5.6  7.7  6.3  6.7  7.2  6.2  6.1  6.4  7.2  7.4  7.9  6.4  6.3  6.1\n",
      "  7.7  6.3  6.4  6.   6.9  6.7  6.9  5.8  6.8  6.7  6.7  6.3  6.5  6.2  5.9] \n",
      "Sepal Widths:\n",
      " [ 3.5  3.   3.2  3.1  3.6  3.9  3.4  3.4  2.9  3.1  3.7  3.4  3.   3.   4.\n",
      "  4.4  3.9  3.5  3.8  3.8  3.4  3.7  3.6  3.3  3.4  3.   3.4  3.5  3.4  3.2\n",
      "  3.1  3.4  4.1  4.2  3.1  3.2  3.5  3.1  3.   3.4  3.5  2.3  3.2  3.5  3.8\n",
      "  3.   3.8  3.2  3.7  3.3  3.2  3.2  3.1  2.3  2.8  2.8  3.3  2.4  2.9  2.7\n",
      "  2.   3.   2.2  2.9  2.9  3.1  3.   2.7  2.2  2.5  3.2  2.8  2.5  2.8  2.9\n",
      "  3.   2.8  3.   2.9  2.6  2.4  2.4  2.7  2.7  3.   3.4  3.1  2.3  3.   2.5\n",
      "  2.6  3.   2.6  2.3  2.7  3.   2.9  2.9  2.5  2.8  3.3  2.7  3.   2.9  3.\n",
      "  3.   2.5  2.9  2.5  3.6  3.2  2.7  3.   2.5  2.8  3.2  3.   3.8  2.6  2.2\n",
      "  3.2  2.8  2.8  2.7  3.3  3.2  2.8  3.   2.8  3.   2.8  3.8  2.8  2.8  2.6\n",
      "  3.   3.4  3.1  3.   3.1  3.1  3.1  2.7  3.2  3.3  3.   2.5  3.   3.4  3. ] \n",
      "Petal Lengths:\n",
      " [ 1.4  1.4  1.3  1.5  1.4  1.7  1.4  1.5  1.4  1.5  1.5  1.6  1.4  1.1  1.2\n",
      "  1.5  1.3  1.4  1.7  1.5  1.7  1.5  1.   1.7  1.9  1.6  1.6  1.5  1.4  1.6\n",
      "  1.6  1.5  1.5  1.4  1.5  1.2  1.3  1.5  1.3  1.5  1.3  1.3  1.3  1.6  1.9\n",
      "  1.4  1.6  1.4  1.5  1.4  4.7  4.5  4.9  4.   4.6  4.5  4.7  3.3  4.6  3.9\n",
      "  3.5  4.2  4.   4.7  3.6  4.4  4.5  4.1  4.5  3.9  4.8  4.   4.9  4.7  4.3\n",
      "  4.4  4.8  5.   4.5  3.5  3.8  3.7  3.9  5.1  4.5  4.5  4.7  4.4  4.1  4.\n",
      "  4.4  4.6  4.   3.3  4.2  4.2  4.2  4.3  3.   4.1  6.   5.1  5.9  5.6  5.8\n",
      "  6.6  4.5  6.3  5.8  6.1  5.1  5.3  5.5  5.   5.1  5.3  5.5  6.7  6.9  5.\n",
      "  5.7  4.9  6.7  4.9  5.7  6.   4.8  4.9  5.6  5.8  6.1  6.4  5.6  5.1  5.6\n",
      "  6.1  5.6  5.5  4.8  5.4  5.6  5.1  5.1  5.9  5.7  5.2  5.   5.2  5.4  5.1] \n",
      "Petal Widths:\n",
      " [ 0.2  0.2  0.2  0.2  0.2  0.4  0.3  0.2  0.2  0.1  0.2  0.2  0.1  0.1  0.2\n",
      "  0.4  0.4  0.3  0.3  0.3  0.2  0.4  0.2  0.5  0.2  0.2  0.4  0.2  0.2  0.2\n",
      "  0.2  0.4  0.1  0.2  0.1  0.2  0.2  0.1  0.2  0.2  0.3  0.3  0.2  0.6  0.4\n",
      "  0.3  0.2  0.2  0.2  0.2  1.4  1.5  1.5  1.3  1.5  1.3  1.6  1.   1.3  1.4\n",
      "  1.   1.5  1.   1.4  1.3  1.4  1.5  1.   1.5  1.1  1.8  1.3  1.5  1.2  1.3\n",
      "  1.4  1.4  1.7  1.5  1.   1.1  1.   1.2  1.6  1.5  1.6  1.5  1.3  1.3  1.3\n",
      "  1.2  1.4  1.2  1.   1.3  1.2  1.3  1.3  1.1  1.3  2.5  1.9  2.1  1.8  2.2\n",
      "  2.1  1.7  1.8  1.8  2.5  2.   1.9  2.1  2.   2.4  2.3  1.8  2.2  2.3  1.5\n",
      "  2.3  2.   2.   1.8  2.1  1.8  1.8  1.8  2.1  1.6  1.9  2.   2.2  1.5  1.4\n",
      "  2.3  2.4  1.8  1.8  2.1  2.4  2.3  1.9  2.3  2.5  2.3  1.9  2.   2.3  1.8] \n",
      "Iris Names:\n",
      " [b'Iris-setosa' b'Iris-setosa' b'Iris-setosa' b'Iris-setosa' b'Iris-setosa'\n",
      " b'Iris-setosa' b'Iris-setosa' b'Iris-setosa' b'Iris-setosa' b'Iris-setosa'\n",
      " b'Iris-setosa' b'Iris-setosa' b'Iris-setosa' b'Iris-setosa' b'Iris-setosa'\n",
      " b'Iris-setosa' b'Iris-setosa' b'Iris-setosa' b'Iris-setosa' b'Iris-setosa'\n",
      " b'Iris-setosa' b'Iris-setosa' b'Iris-setosa' b'Iris-setosa' b'Iris-setosa'\n",
      " b'Iris-setosa' b'Iris-setosa' b'Iris-setosa' b'Iris-setosa' b'Iris-setosa'\n",
      " b'Iris-setosa' b'Iris-setosa' b'Iris-setosa' b'Iris-setosa' b'Iris-setosa'\n",
      " b'Iris-setosa' b'Iris-setosa' b'Iris-setosa' b'Iris-setosa' b'Iris-setosa'\n",
      " b'Iris-setosa' b'Iris-setosa' b'Iris-setosa' b'Iris-setosa' b'Iris-setosa'\n",
      " b'Iris-setosa' b'Iris-setosa' b'Iris-setosa' b'Iris-setosa' b'Iris-setosa'\n",
      " b'Iris-versicolor' b'Iris-versicolor' b'Iris-versicolor'\n",
      " b'Iris-versicolor' b'Iris-versicolor' b'Iris-versicolor'\n",
      " b'Iris-versicolor' b'Iris-versicolor' b'Iris-versicolor'\n",
      " b'Iris-versicolor' b'Iris-versicolor' b'Iris-versicolor'\n",
      " b'Iris-versicolor' b'Iris-versicolor' b'Iris-versicolor'\n",
      " b'Iris-versicolor' b'Iris-versicolor' b'Iris-versicolor'\n",
      " b'Iris-versicolor' b'Iris-versicolor' b'Iris-versicolor'\n",
      " b'Iris-versicolor' b'Iris-versicolor' b'Iris-versicolor'\n",
      " b'Iris-versicolor' b'Iris-versicolor' b'Iris-versicolor'\n",
      " b'Iris-versicolor' b'Iris-versicolor' b'Iris-versicolor'\n",
      " b'Iris-versicolor' b'Iris-versicolor' b'Iris-versicolor'\n",
      " b'Iris-versicolor' b'Iris-versicolor' b'Iris-versicolor'\n",
      " b'Iris-versicolor' b'Iris-versicolor' b'Iris-versicolor'\n",
      " b'Iris-versicolor' b'Iris-versicolor' b'Iris-versicolor'\n",
      " b'Iris-versicolor' b'Iris-versicolor' b'Iris-versicolor'\n",
      " b'Iris-versicolor' b'Iris-versicolor' b'Iris-versicolor'\n",
      " b'Iris-versicolor' b'Iris-versicolor' b'Iris-virginica' b'Iris-virginica'\n",
      " b'Iris-virginica' b'Iris-virginica' b'Iris-virginica' b'Iris-virginica'\n",
      " b'Iris-virginica' b'Iris-virginica' b'Iris-virginica' b'Iris-virginica'\n",
      " b'Iris-virginica' b'Iris-virginica' b'Iris-virginica' b'Iris-virginica'\n",
      " b'Iris-virginica' b'Iris-virginica' b'Iris-virginica' b'Iris-virginica'\n",
      " b'Iris-virginica' b'Iris-virginica' b'Iris-virginica' b'Iris-virginica'\n",
      " b'Iris-virginica' b'Iris-virginica' b'Iris-virginica' b'Iris-virginica'\n",
      " b'Iris-virginica' b'Iris-virginica' b'Iris-virginica' b'Iris-virginica'\n",
      " b'Iris-virginica' b'Iris-virginica' b'Iris-virginica' b'Iris-virginica'\n",
      " b'Iris-virginica' b'Iris-virginica' b'Iris-virginica' b'Iris-virginica'\n",
      " b'Iris-virginica' b'Iris-virginica' b'Iris-virginica' b'Iris-virginica'\n",
      " b'Iris-virginica' b'Iris-virginica' b'Iris-virginica' b'Iris-virginica'\n",
      " b'Iris-virginica' b'Iris-virginica' b'Iris-virginica' b'Iris-virginica']\n"
     ]
    }
   ],
   "source": [
    "# Import numpy\n",
    "import numpy as np\n",
    "\n",
    "# Adapted code from - https://docs.scipy.org/doc/numpy/reference/generated/numpy.loadtxt.html#numpy.loadtxt\n",
    "# Read column by column into 5 different arrays, one for sepal length, one for sepal width, one for petal length, one for petal width and one for iris class.\n",
    "# Read in by using a \",\" delimiter (because it's a CSV file), set the first 4 variables as float type and the last one as a 15 character long string.\n",
    "# Usecols allows me to take the value in each column and place it into an appropriate array.\n",
    "sepal_L, sepal_W, petal_L, petal_W, iris_class = np.loadtxt(open(\"IRIS_dataset.csv\", \"rb\"), \n",
    "                                                            delimiter=\",\", \n",
    "                                                            dtype={'names': ('sepal_L', 'sepal_W', 'petal_L', 'petal_W', 'iris_class'), 'formats': ('float', 'float', 'float', 'float', 'S15')}, \n",
    "                                                            usecols=(0,1,2,3,4), \n",
    "                                                            unpack=True)\n",
    "\n",
    "print(\"Sepal Lengths:\\n\",sepal_L,\"\\nSepal Widths:\\n\",sepal_W,\"\\nPetal Lengths:\\n\",petal_L,\"\\nPetal Widths:\\n\",petal_W,\"\\nIris Names:\\n\",iris_class)"
   ]
  },
  {
   "cell_type": "markdown",
   "metadata": {},
   "source": [
    "### Create a simple plot\n",
    "In the code above I stored the data from the CSV files into numpy arrays, this lets me work with the data in the CSV files.\n",
    "\n",
    "I can use Pyplot to create a simple plot of data. I will plot all of the sepal lengths onto the x-axis and all of the sepal widths onto the y-axis. This lets me visual the data in the form of a scatter plot."
   ]
  },
  {
   "cell_type": "code",
   "execution_count": 26,
   "metadata": {},
   "outputs": [
    {
     "data": {
      "image/png": "[encoded data removed]",
      "text/plain": [
       "<matplotlib.figure.Figure at 0x1a48e4e1630>"
      ]
     },
     "metadata": {},
     "output_type": "display_data"
    }
   ],
   "source": [
    "# Import matplotlib's pyplot\n",
    "import matplotlib.pyplot as plt\n",
    "\n",
    "# Set the sepal_L (length) as the x-axis and sepal_W (width) as the y-axis, plotted as red Os \n",
    "plt.plot(sepal_L, sepal_W, 'ro')\n",
    "# Set the x-axis label\n",
    "plt.xlabel('Sepal Length')\n",
    "# Set the y-axis label\n",
    "plt.ylabel('Sepal Width')\n",
    "# Set the diagram title\n",
    "plt.title('Sepal length & width scatter plot')\n",
    "# Display the plot\n",
    "plt.show()"
   ]
  }
 ],
 "metadata": {
  "kernelspec": {
   "display_name": "Python 3",
   "language": "python",
   "name": "python3"
  },
  "language_info": {
   "codemirror_mode": {
    "name": "ipython",
    "version": 3
   },
   "file_extension": ".py",
   "mimetype": "text/x-python",
   "name": "python",
   "nbconvert_exporter": "python",
   "pygments_lexer": "ipython3",
   "version": "3.6.2"
  }
 },
 "nbformat": 4,
 "nbformat_minor": 2
}
